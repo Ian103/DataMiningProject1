{
 "cells": [
  {
   "cell_type": "code",
   "execution_count": 1,
   "metadata": {},
   "outputs": [],
   "source": [
    "import pandas as pd\n",
    "import numpy as np"
   ]
  },
  {
   "cell_type": "markdown",
   "metadata": {},
   "source": [
    "### Class"
   ]
  },
  {
   "cell_type": "code",
   "execution_count": 2,
   "metadata": {},
   "outputs": [],
   "source": [
    "class node():\n",
    "    def __init__(self, value=None, parentNode=None):\n",
    "        self.count = 0\n",
    "        self.value = value\n",
    "        self.parentNode = parentNode\n",
    "        self.sonNodes = []\n",
    "    def setParent(self, parent):\n",
    "        self.parentNode = parent\n",
    "    def addSon(self, son):\n",
    "        self.sonNodes.append(son)\n",
    "    def removeSon(self, son):\n",
    "        self.sonNodes.remove(son)\n",
    "    def addCount(self):\n",
    "        self.count = self.count + 1\n",
    "    def setCount(self, count):\n",
    "        self.count = count\n",
    "    def getValue(self):\n",
    "        return self.value\n",
    "    def getCount(self):\n",
    "        return self.count\n",
    "    def getParent(self):\n",
    "        return self.parentNode\n",
    "    def getSons(self):\n",
    "        return self.sonNodes \n",
    "    def printInfo(self):\n",
    "        print('Node Name:', self.value)\n",
    "        print('Parent :', None if self.parentNode == None else self.parentNode.getValue())\n",
    "        print('Son :', [son.getValue() for son in self.sonNodes])\n",
    "        #l = [son.getValue() for son in self.sonNodes]\n",
    "        #print(len(self.sonNodes))"
   ]
  },
  {
   "cell_type": "code",
   "execution_count": 3,
   "metadata": {},
   "outputs": [],
   "source": [
    "class node_head():\n",
    "    def __init__(self, value):\n",
    "        self.value = value\n",
    "        self.nodelist = []\n",
    "    def addNode(self, node):\n",
    "        self.nodelist.append(node)\n",
    "    def getValue(self):\n",
    "        return self.value\n",
    "    def getList(self):\n",
    "        return self.nodelist"
   ]
  },
  {
   "cell_type": "markdown",
   "metadata": {},
   "source": [
    "### Function"
   ]
  },
  {
   "cell_type": "markdown",
   "metadata": {},
   "source": [
    "#### Find the node which value is target"
   ]
  },
  {
   "cell_type": "code",
   "execution_count": 4,
   "metadata": {},
   "outputs": [],
   "source": [
    "def findNode(head, target):\n",
    "    if head.getSons() == []:\n",
    "        return None\n",
    "    else:\n",
    "        for son in head.getSons():\n",
    "            if son.getValue() == target:\n",
    "                return son\n",
    "    return None"
   ]
  },
  {
   "cell_type": "markdown",
   "metadata": {},
   "source": [
    "#### print the subtree which root is h"
   ]
  },
  {
   "cell_type": "code",
   "execution_count": 5,
   "metadata": {},
   "outputs": [],
   "source": [
    "def printNode(h):\n",
    "    print(h.getValue(),h.getCount())\n",
    "    if h.getSons() == []:\n",
    "        print('-End-')\n",
    "    else:\n",
    "        for son in h.getSons():\n",
    "            printNode(son)"
   ]
  },
  {
   "cell_type": "code",
   "execution_count": 6,
   "metadata": {},
   "outputs": [],
   "source": [
    "def printNodeUp(s, tracklist):\n",
    "    p = s.getParent()\n",
    "    if p.getValue() == None:\n",
    "        print('-End-')\n",
    "    else:\n",
    "        print(p.getValue(), p.getCount())\n",
    "        tracklist.append((p.getValue(), p.getCount()))\n",
    "        tracklist = printNodeUp(p, tracklist)\n",
    "    return tracklist "
   ]
  },
  {
   "cell_type": "markdown",
   "metadata": {},
   "source": [
    "### Read Data\n",
    "Toy Data : from FP-growth"
   ]
  },
  {
   "cell_type": "code",
   "execution_count": 7,
   "metadata": {
    "scrolled": true
   },
   "outputs": [
    {
     "data": {
      "text/html": [
       "<div>\n",
       "<style scoped>\n",
       "    .dataframe tbody tr th:only-of-type {\n",
       "        vertical-align: middle;\n",
       "    }\n",
       "\n",
       "    .dataframe tbody tr th {\n",
       "        vertical-align: top;\n",
       "    }\n",
       "\n",
       "    .dataframe thead th {\n",
       "        text-align: right;\n",
       "    }\n",
       "</style>\n",
       "<table border=\"1\" class=\"dataframe\">\n",
       "  <thead>\n",
       "    <tr style=\"text-align: right;\">\n",
       "      <th></th>\n",
       "      <th>items</th>\n",
       "      <th>itemList</th>\n",
       "    </tr>\n",
       "  </thead>\n",
       "  <tbody>\n",
       "    <tr>\n",
       "      <th>0</th>\n",
       "      <td>Milk,Bread,Beer</td>\n",
       "      <td>[Milk, Bread, Beer]</td>\n",
       "    </tr>\n",
       "    <tr>\n",
       "      <th>1</th>\n",
       "      <td>Bread,Coffee</td>\n",
       "      <td>[Bread, Coffee]</td>\n",
       "    </tr>\n",
       "    <tr>\n",
       "      <th>2</th>\n",
       "      <td>Bread,Egg</td>\n",
       "      <td>[Bread, Egg]</td>\n",
       "    </tr>\n",
       "    <tr>\n",
       "      <th>3</th>\n",
       "      <td>Milk,Bread,Coffee</td>\n",
       "      <td>[Milk, Bread, Coffee]</td>\n",
       "    </tr>\n",
       "    <tr>\n",
       "      <th>4</th>\n",
       "      <td>Milk,Egg</td>\n",
       "      <td>[Milk, Egg]</td>\n",
       "    </tr>\n",
       "    <tr>\n",
       "      <th>5</th>\n",
       "      <td>Bread,Egg</td>\n",
       "      <td>[Bread, Egg]</td>\n",
       "    </tr>\n",
       "    <tr>\n",
       "      <th>6</th>\n",
       "      <td>Milk,Egg</td>\n",
       "      <td>[Milk, Egg]</td>\n",
       "    </tr>\n",
       "    <tr>\n",
       "      <th>7</th>\n",
       "      <td>Milk,Bread,Egg,Beer</td>\n",
       "      <td>[Milk, Bread, Egg, Beer]</td>\n",
       "    </tr>\n",
       "    <tr>\n",
       "      <th>8</th>\n",
       "      <td>Milk,Bread,Egg</td>\n",
       "      <td>[Milk, Bread, Egg]</td>\n",
       "    </tr>\n",
       "  </tbody>\n",
       "</table>\n",
       "</div>"
      ],
      "text/plain": [
       "                 items                  itemList\n",
       "0      Milk,Bread,Beer       [Milk, Bread, Beer]\n",
       "1         Bread,Coffee           [Bread, Coffee]\n",
       "2            Bread,Egg              [Bread, Egg]\n",
       "3    Milk,Bread,Coffee     [Milk, Bread, Coffee]\n",
       "4             Milk,Egg               [Milk, Egg]\n",
       "5            Bread,Egg              [Bread, Egg]\n",
       "6             Milk,Egg               [Milk, Egg]\n",
       "7  Milk,Bread,Egg,Beer  [Milk, Bread, Egg, Beer]\n",
       "8       Milk,Bread,Egg        [Milk, Bread, Egg]"
      ]
     },
     "execution_count": 7,
     "metadata": {},
     "output_type": "execute_result"
    }
   ],
   "source": [
    "df = pd.read_csv('toydata.csv')\n",
    "df = df.drop('TID', axis=1)\n",
    "df['itemList'] = df['items'].str.split(',')\n",
    "df"
   ]
  },
  {
   "cell_type": "code",
   "execution_count": 8,
   "metadata": {
    "scrolled": true
   },
   "outputs": [
    {
     "data": {
      "text/plain": [
       "Bread     7\n",
       "Milk      6\n",
       "Egg       6\n",
       "Coffee    2\n",
       "Beer      2\n",
       "dtype: int64"
      ]
     },
     "execution_count": 8,
     "metadata": {},
     "output_type": "execute_result"
    }
   ],
   "source": [
    "totalList = []\n",
    "for l in df['itemList']:\n",
    "    for item in l:\n",
    "        totalList.append(item)\n",
    "frequency = pd.Series(totalList).value_counts()\n",
    "headList = [node_head(item) for item in frequency.index]\n",
    "frequency"
   ]
  },
  {
   "cell_type": "code",
   "execution_count": 9,
   "metadata": {},
   "outputs": [],
   "source": [
    "m = pd.Series((0,1,2,3,4),index=frequency.index)"
   ]
  },
  {
   "cell_type": "code",
   "execution_count": 10,
   "metadata": {},
   "outputs": [
    {
     "data": {
      "text/plain": [
       "Bread     0\n",
       "Milk      1\n",
       "Egg       2\n",
       "Coffee    3\n",
       "Beer      4\n",
       "dtype: int64"
      ]
     },
     "execution_count": 10,
     "metadata": {},
     "output_type": "execute_result"
    }
   ],
   "source": [
    "m"
   ]
  },
  {
   "cell_type": "code",
   "execution_count": 11,
   "metadata": {},
   "outputs": [
    {
     "data": {
      "text/html": [
       "<div>\n",
       "<style scoped>\n",
       "    .dataframe tbody tr th:only-of-type {\n",
       "        vertical-align: middle;\n",
       "    }\n",
       "\n",
       "    .dataframe tbody tr th {\n",
       "        vertical-align: top;\n",
       "    }\n",
       "\n",
       "    .dataframe thead th {\n",
       "        text-align: right;\n",
       "    }\n",
       "</style>\n",
       "<table border=\"1\" class=\"dataframe\">\n",
       "  <thead>\n",
       "    <tr style=\"text-align: right;\">\n",
       "      <th></th>\n",
       "      <th>items</th>\n",
       "      <th>itemList</th>\n",
       "    </tr>\n",
       "  </thead>\n",
       "  <tbody>\n",
       "    <tr>\n",
       "      <th>0</th>\n",
       "      <td>Milk,Bread,Beer</td>\n",
       "      <td>[Bread, Milk, Beer]</td>\n",
       "    </tr>\n",
       "    <tr>\n",
       "      <th>1</th>\n",
       "      <td>Bread,Coffee</td>\n",
       "      <td>[Bread, Coffee]</td>\n",
       "    </tr>\n",
       "    <tr>\n",
       "      <th>2</th>\n",
       "      <td>Bread,Egg</td>\n",
       "      <td>[Bread, Egg]</td>\n",
       "    </tr>\n",
       "    <tr>\n",
       "      <th>3</th>\n",
       "      <td>Milk,Bread,Coffee</td>\n",
       "      <td>[Bread, Milk, Coffee]</td>\n",
       "    </tr>\n",
       "    <tr>\n",
       "      <th>4</th>\n",
       "      <td>Milk,Egg</td>\n",
       "      <td>[Milk, Egg]</td>\n",
       "    </tr>\n",
       "    <tr>\n",
       "      <th>5</th>\n",
       "      <td>Bread,Egg</td>\n",
       "      <td>[Bread, Egg]</td>\n",
       "    </tr>\n",
       "    <tr>\n",
       "      <th>6</th>\n",
       "      <td>Milk,Egg</td>\n",
       "      <td>[Milk, Egg]</td>\n",
       "    </tr>\n",
       "    <tr>\n",
       "      <th>7</th>\n",
       "      <td>Milk,Bread,Egg,Beer</td>\n",
       "      <td>[Bread, Milk, Egg, Beer]</td>\n",
       "    </tr>\n",
       "    <tr>\n",
       "      <th>8</th>\n",
       "      <td>Milk,Bread,Egg</td>\n",
       "      <td>[Bread, Milk, Egg]</td>\n",
       "    </tr>\n",
       "  </tbody>\n",
       "</table>\n",
       "</div>"
      ],
      "text/plain": [
       "                 items                  itemList\n",
       "0      Milk,Bread,Beer       [Bread, Milk, Beer]\n",
       "1         Bread,Coffee           [Bread, Coffee]\n",
       "2            Bread,Egg              [Bread, Egg]\n",
       "3    Milk,Bread,Coffee     [Bread, Milk, Coffee]\n",
       "4             Milk,Egg               [Milk, Egg]\n",
       "5            Bread,Egg              [Bread, Egg]\n",
       "6             Milk,Egg               [Milk, Egg]\n",
       "7  Milk,Bread,Egg,Beer  [Bread, Milk, Egg, Beer]\n",
       "8       Milk,Bread,Egg        [Bread, Milk, Egg]"
      ]
     },
     "execution_count": 11,
     "metadata": {},
     "output_type": "execute_result"
    }
   ],
   "source": [
    "for i in range(df.shape[0]):\n",
    "    df['itemList'][i] = sorted(df['itemList'][i],key=lambda item : m[item] )\n",
    "df"
   ]
  },
  {
   "cell_type": "code",
   "execution_count": 12,
   "metadata": {},
   "outputs": [],
   "source": [
    "headNode = node()\n",
    "for itemlist in df['itemList']:\n",
    "    head = headNode\n",
    "    for item in itemlist:\n",
    "        theNode = findNode(head, item)\n",
    "        if theNode == None:\n",
    "            x = node(value=item, parentNode=head)\n",
    "            x.addCount()\n",
    "            headList[list(m.index).index(item)].addNode(x)\n",
    "            head.addSon(x)\n",
    "            head = x\n",
    "        else:\n",
    "            theNode.addCount()\n",
    "            head = theNode"
   ]
  },
  {
   "cell_type": "code",
   "execution_count": 13,
   "metadata": {},
   "outputs": [
    {
     "name": "stdout",
     "output_type": "stream",
     "text": [
      "None 0\n",
      "Bread 7\n",
      "Milk 4\n",
      "Beer 1\n",
      "-End-\n",
      "Coffee 1\n",
      "-End-\n",
      "Egg 2\n",
      "Beer 1\n",
      "-End-\n",
      "Coffee 1\n",
      "-End-\n",
      "Egg 2\n",
      "-End-\n",
      "Milk 2\n",
      "Egg 2\n",
      "-End-\n"
     ]
    }
   ],
   "source": [
    "printNode(headNode)"
   ]
  },
  {
   "cell_type": "code",
   "execution_count": 14,
   "metadata": {
    "scrolled": true
   },
   "outputs": [
    {
     "name": "stdout",
     "output_type": "stream",
     "text": [
      "\n",
      " Bread 7\n",
      "|\n",
      "-End-\n",
      "\n",
      " Milk 4\n",
      "|\n",
      "Bread 7\n",
      "-End-\n",
      "\n",
      " Milk 2\n",
      "|\n",
      "-End-\n",
      "\n",
      " Egg 2\n",
      "|\n",
      "Bread 7\n",
      "-End-\n",
      "\n",
      " Egg 2\n",
      "|\n",
      "Milk 2\n",
      "-End-\n",
      "\n",
      " Egg 2\n",
      "|\n",
      "Milk 4\n",
      "Bread 7\n",
      "-End-\n",
      "\n",
      " Coffee 1\n",
      "|\n",
      "Bread 7\n",
      "-End-\n",
      "\n",
      " Coffee 1\n",
      "|\n",
      "Milk 4\n",
      "Bread 7\n",
      "-End-\n",
      "\n",
      " Beer 1\n",
      "|\n",
      "Milk 4\n",
      "Bread 7\n",
      "-End-\n",
      "\n",
      " Beer 1\n",
      "|\n",
      "Egg 2\n",
      "Milk 4\n",
      "Bread 7\n",
      "-End-\n"
     ]
    }
   ],
   "source": [
    "pathLists = []\n",
    "for head in headList:\n",
    "    trackLists = []\n",
    "    for n in head.getList():\n",
    "        tlist = [(n.getValue(), n.getCount())]\n",
    "        print('\\n', n.getValue(), n.getCount())\n",
    "        print('|')\n",
    "        trackLists.append(printNodeUp(n, tlist) )\n",
    "    pathLists.append(trackLists)"
   ]
  },
  {
   "cell_type": "code",
   "execution_count": 15,
   "metadata": {},
   "outputs": [
    {
     "data": {
      "text/plain": [
       "[[[('Bread', 7)]],\n",
       " [[('Milk', 4), ('Bread', 7)], [('Milk', 2)]],\n",
       " [[('Egg', 2), ('Bread', 7)],\n",
       "  [('Egg', 2), ('Milk', 2)],\n",
       "  [('Egg', 2), ('Milk', 4), ('Bread', 7)]],\n",
       " [[('Coffee', 1), ('Bread', 7)], [('Coffee', 1), ('Milk', 4), ('Bread', 7)]],\n",
       " [[('Beer', 1), ('Milk', 4), ('Bread', 7)],\n",
       "  [('Beer', 1), ('Egg', 2), ('Milk', 4), ('Bread', 7)]]]"
      ]
     },
     "execution_count": 15,
     "metadata": {},
     "output_type": "execute_result"
    }
   ],
   "source": [
    "pathLists"
   ]
  },
  {
   "cell_type": "code",
   "execution_count": 16,
   "metadata": {},
   "outputs": [
    {
     "name": "stdout",
     "output_type": "stream",
     "text": [
      "[[('Bread', 7)]]\n",
      "----\n",
      "[[('Bread', 4), ('Milk', 4)], [('Milk', 2)]]\n",
      "----\n",
      "[[('Bread', 2), ('Egg', 2)], [('Milk', 2), ('Egg', 2)], [('Bread', 2), ('Milk', 2), ('Egg', 2)]]\n",
      "----\n",
      "[[('Bread', 1), ('Coffee', 1)], [('Bread', 1), ('Milk', 1), ('Coffee', 1)]]\n",
      "----\n",
      "[[('Bread', 1), ('Milk', 1), ('Beer', 1)], [('Bread', 1), ('Milk', 1), ('Egg', 1), ('Beer', 1)]]\n",
      "----\n"
     ]
    }
   ],
   "source": [
    "suffixLists = []\n",
    "for pathlist in pathLists:\n",
    "    suffixList = []\n",
    "    for path in pathlist:\n",
    "        path.reverse()\n",
    "        n = path[-1][1]\n",
    "        path = [(item[0],n) for item in path]\n",
    "        suffixList.append(path)\n",
    "    suffixLists.append(suffixList)\n",
    "    print(suffixList)\n",
    "    print('----')"
   ]
  },
  {
   "cell_type": "code",
   "execution_count": 23,
   "metadata": {
    "scrolled": false
   },
   "outputs": [
    {
     "data": {
      "text/plain": [
       "[[[('Bread', 7)]],\n",
       " [[('Bread', 4), ('Milk', 4)], [('Milk', 2)]],\n",
       " [[('Bread', 2), ('Egg', 2)],\n",
       "  [('Milk', 2), ('Egg', 2)],\n",
       "  [('Bread', 2), ('Milk', 2), ('Egg', 2)]],\n",
       " [[('Bread', 1), ('Coffee', 1)], [('Bread', 1), ('Milk', 1), ('Coffee', 1)]],\n",
       " [[('Bread', 1), ('Milk', 1), ('Beer', 1)],\n",
       "  [('Bread', 1), ('Milk', 1), ('Egg', 1), ('Beer', 1)]]]"
      ]
     },
     "execution_count": 23,
     "metadata": {},
     "output_type": "execute_result"
    }
   ],
   "source": [
    "suffixLists"
   ]
  },
  {
   "cell_type": "code",
   "execution_count": 150,
   "metadata": {},
   "outputs": [],
   "source": [
    "suffixTrees = []\n",
    "for suffixList in suffixLists:\n",
    "    head_null = node()\n",
    "    for path in suffixList:\n",
    "        head = head_null\n",
    "        for item, value in path[:-1]:\n",
    "            theNode = findNode(head, item)\n",
    "            if theNode == None:\n",
    "                newNode = node(item, head)\n",
    "                newNode.setCount(value)\n",
    "                head.addSon(newNode)\n",
    "                head = newNode\n",
    "            else:\n",
    "                theNode.setCount(theNode.getCount() + value)\n",
    "                head = theNode\n",
    "    suffixTrees.append(head_null)\n"
   ]
  },
  {
   "cell_type": "code",
   "execution_count": 151,
   "metadata": {},
   "outputs": [
    {
     "name": "stdout",
     "output_type": "stream",
     "text": [
      "None 0\n",
      "-End-\n",
      "None 0\n",
      "Bread 4\n",
      "-End-\n",
      "None 0\n",
      "Bread 4\n",
      "Milk 2\n",
      "-End-\n",
      "Milk 2\n",
      "-End-\n",
      "None 0\n",
      "Bread 2\n",
      "Milk 1\n",
      "-End-\n",
      "None 0\n",
      "Bread 2\n",
      "Milk 2\n",
      "Egg 1\n",
      "-End-\n"
     ]
    }
   ],
   "source": [
    "for h in suffixTrees:\n",
    "    printNode(h)"
   ]
  },
  {
   "cell_type": "code",
   "execution_count": 186,
   "metadata": {},
   "outputs": [],
   "source": [
    "def printPatteren(h, l, minSup, value, total):\n",
    "    def check_add(l_old, item_new):\n",
    "        if  item_new in l_old:\n",
    "            l_old[l_old.index(item_new)][-1]+=item_new[-1]\n",
    "        else:\n",
    "            l_old.append(item_new)\n",
    "    sons = h.getSons()\n",
    "    if sons == []:\n",
    "        print('-End-')\n",
    "    else:\n",
    "        for son in sons:\n",
    "            l0 = l.copy()\n",
    "            if son.getCount() < minSup:\n",
    "                break\n",
    "            else:\n",
    "                l1 = [son.getValue(), value, son.getCount()]\n",
    "                print(l1)\n",
    "                check_add(total,l1)\n",
    "                if l!=[]:\n",
    "                    l2 = l + l1\n",
    "                    print(l2)\n",
    "                    check_add(total,l2)\n",
    "                l0.append(son.getValue())\n",
    "                total = printPatteren(son, l0, minSup, value, total)\n",
    "    return total"
   ]
  },
  {
   "cell_type": "code",
   "execution_count": 200,
   "metadata": {
    "scrolled": true
   },
   "outputs": [
    {
     "name": "stdout",
     "output_type": "stream",
     "text": [
      "Bread\n",
      "-End-\n",
      "Milk\n",
      "['Bread', 'Milk', 4]\n",
      "-End-\n",
      "Egg\n",
      "['Bread', 'Egg', 4]\n",
      "['Milk', 'Egg', 2]\n",
      "['Bread', 'Milk', 'Egg', 2]\n",
      "-End-\n",
      "['Milk', 'Egg', 2]\n",
      "-End-\n",
      "Coffee\n",
      "['Bread', 'Coffee', 2]\n",
      "Beer\n",
      "['Bread', 'Beer', 2]\n",
      "['Milk', 'Beer', 2]\n",
      "['Bread', 'Milk', 'Beer', 2]\n"
     ]
    }
   ],
   "source": [
    "total_all = []\n",
    "for i in range(len(suffixTrees)):\n",
    "    print(m.index[i])\n",
    "    total = printPatteren(suffixTrees[i],[],2,m.index[i],[])\n",
    "    total_all += total\n",
    "for i in range(len(frequency)):\n",
    "    total_all.append(list([frequency.index[i], frequency[i]]))"
   ]
  },
  {
   "cell_type": "code",
   "execution_count": 199,
   "metadata": {},
   "outputs": [
    {
     "data": {
      "text/plain": [
       "[['Bread', 'Milk', 4],\n",
       " ['Bread', 'Egg', 4],\n",
       " ['Milk', 'Egg', 4],\n",
       " ['Bread', 'Milk', 'Egg', 2],\n",
       " ['Bread', 'Coffee', 2],\n",
       " ['Bread', 'Beer', 2],\n",
       " ['Milk', 'Beer', 2],\n",
       " ['Bread', 'Milk', 'Beer', 2],\n",
       " ['Bread', 7],\n",
       " ['Milk', 6],\n",
       " ['Egg', 6],\n",
       " ['Coffee', 2],\n",
       " ['Beer', 2]]"
      ]
     },
     "execution_count": 199,
     "metadata": {},
     "output_type": "execute_result"
    }
   ],
   "source": [
    "total_all"
   ]
  }
 ],
 "metadata": {
  "kernelspec": {
   "display_name": "Python 3",
   "language": "python",
   "name": "python3"
  },
  "language_info": {
   "codemirror_mode": {
    "name": "ipython",
    "version": 3
   },
   "file_extension": ".py",
   "mimetype": "text/x-python",
   "name": "python",
   "nbconvert_exporter": "python",
   "pygments_lexer": "ipython3",
   "version": "3.7.0"
  }
 },
 "nbformat": 4,
 "nbformat_minor": 2
}
